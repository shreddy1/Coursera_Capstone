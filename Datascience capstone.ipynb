{
    "nbformat_minor": 1, 
    "cells": [
        {
            "source": "# This notebook is mainly used for the capstone project", 
            "cell_type": "markdown", 
            "metadata": {
                "collapsed": true
            }
        }, 
        {
            "source": "import pandas as pd\n", 
            "cell_type": "code", 
            "metadata": {}, 
            "outputs": [], 
            "execution_count": 1
        }, 
        {
            "source": "import numpy as np", 
            "cell_type": "code", 
            "metadata": {}, 
            "outputs": [], 
            "execution_count": 2
        }, 
        {
            "source": "print(\"Hello Capstone Project Course!\")", 
            "cell_type": "code", 
            "metadata": {}, 
            "outputs": [
                {
                    "output_type": "stream", 
                    "name": "stdout", 
                    "text": "Hello Capstone Project Course!\n"
                }
            ], 
            "execution_count": 4
        }, 
        {
            "source": "# All the 3 parts of the project are done in a single notebook.", 
            "cell_type": "markdown", 
            "metadata": {}
        }, 
        {
            "source": "# 1. Segmenting and Clustering Neighborhoods in Toronto", 
            "cell_type": "markdown", 
            "metadata": {}
        }, 
        {
            "source": "import pandas as pd\n# Used https://beautiful-soup-4.readthedocs.io/en/latest/\n#importing soup libraries\nfrom bs4 import BeautifulSoup\nimport requests\n#from tabulate import tabulate\n\nwiki_url= \"https://en.wikipedia.org/wiki/List_of_postal_codes_of_Canada:_M\"\nurl= requests.get(wiki_url).text\nsoup = BeautifulSoup(url,'lxml')\n#print(soup.prettify())", 
            "cell_type": "code", 
            "metadata": {}, 
            "outputs": [], 
            "execution_count": 41
        }, 
        {
            "source": "# Extracting data from Wikipedia page", 
            "cell_type": "markdown", 
            "metadata": {}
        }, 
        {
            "source": "#used https://pythonprogramminglanguage.com/web-scraping-with-pandas-and-beautifulsoup/ for help\n#printing the dataframe with assigned and not assigned\n#table = soup.find_all('table')[0] \n#df_wiki = pd.read_html(str(table))\n#print( tabulate(df_wiki[0], headers='keys', tablefmt='psql') )\n ", 
            "cell_type": "code", 
            "metadata": {}, 
            "outputs": [], 
            "execution_count": 29
        }, 
        {
            "source": "#Only process the cells that have an assigned borough\n#Taken help from https://stackoverflow.com/questions/23377533/python-beautifulsoup-parsing-table\ntable = soup.find('table')\n\nPstcode= []\nBorough= []\nNhood= []\n\n\nfor tr_cell in table.find_all('tr'):\n    \n    counter = 1\n    Pstcode_var      = -1\n    Borough_var       = -1\n    Nhood_var = -1\n    \n    for td_cell in tr_cell.find_all('td'):\n        if counter == 1: \n            Pstcode_var = td_cell.text\n        if counter == 2: \n            Borough_var = td_cell.text\n            tag_a_Borough = td_cell.find('a')\n            \n        if counter == 3: \n            Nhood_var = str(td_cell.text).strip()\n            tag_a_Nhood = td_cell.find('a')\n            \n        counter +=1\n        \n    if (Pstcode_var == 'Not assigned' or Borough_var == 'Not assigned' or Nhood_var == 'Not assigned'): \n        continue\n    try:\n        if ((tag_a_Borough is None) or (tag_a_Nhood is None)):\n            continue\n    except:\n        pass\n    if(Pstcode_var == -1 or Borough_var == -1 or Nhood_var == -1):\n        continue\n        \n    Pstcode.append(Pstcode_var)\n    Borough.append(Borough_var)\n    Nhood.append(Nhood_var)", 
            "cell_type": "code", 
            "metadata": {}, 
            "outputs": [], 
            "execution_count": 42
        }, 
        {
            "source": "# More than one neighborhood can exist in one postal code area.", 
            "cell_type": "markdown", 
            "metadata": {}
        }, 
        {
            "source": "#More than one neighborhood can exist in one postal code area. \nunique_postal = set(Pstcode)\nprint('#.of unique Postal codes:', len(unique_postal))\nPstcode_u      = []\nBorough_u       = []\nNhood_u = []\n\n\nfor postcode_unique_element in unique_postal:\n    p_var = ''; b_var = ''; n_var = ''; \n    for postcode_idx, postcode_element in enumerate(Pstcode):\n        if postcode_unique_element == postcode_element:\n            p_var = postcode_element;\n            b_var = Borough[postcode_idx]\n            if n_var == '': \n                n_var = Nhood[postcode_idx]\n            else:\n                n_var = n_var + ', ' + Nhood[postcode_idx]\n    Pstcode_u.append(p_var)\n    Borough_u.append(b_var)\n    Nhood_u.append(n_var)\n", 
            "cell_type": "code", 
            "metadata": {}, 
            "outputs": [
                {
                    "output_type": "stream", 
                    "name": "stdout", 
                    "text": "#.of unique Postal codes: 77\n"
                }
            ], 
            "execution_count": 43
        }, 
        {
            "source": "#Printing the correct pandas dataframe\ndictToronto = {'Postcode':Pstcode_u, 'Borough':Borough_u, 'Neighbourhood':Nhood_u}\ndf_toronto = pd.DataFrame.from_dict(dictToronto)\ndf_toronto.to_csv('toronto_part1.csv')\ndf_toronto.head(12)", 
            "cell_type": "code", 
            "metadata": {}, 
            "outputs": [
                {
                    "output_type": "execute_result", 
                    "data": {
                        "text/html": "<div>\n<style scoped>\n    .dataframe tbody tr th:only-of-type {\n        vertical-align: middle;\n    }\n\n    .dataframe tbody tr th {\n        vertical-align: top;\n    }\n\n    .dataframe thead th {\n        text-align: right;\n    }\n</style>\n<table border=\"1\" class=\"dataframe\">\n  <thead>\n    <tr style=\"text-align: right;\">\n      <th></th>\n      <th>Postcode</th>\n      <th>Borough</th>\n      <th>Neighbourhood</th>\n    </tr>\n  </thead>\n  <tbody>\n    <tr>\n      <th>0</th>\n      <td>M2M</td>\n      <td>North York</td>\n      <td>Newtonbrook, Willowdale</td>\n    </tr>\n    <tr>\n      <th>1</th>\n      <td>M1C</td>\n      <td>Scarborough</td>\n      <td>Highland Creek, Rouge Hill, Port Union</td>\n    </tr>\n    <tr>\n      <th>2</th>\n      <td>M9V</td>\n      <td>Etobicoke</td>\n      <td>Beaumond Heights, Jamestown, Mount Olive, Silv...</td>\n    </tr>\n    <tr>\n      <th>3</th>\n      <td>M4B</td>\n      <td>East York</td>\n      <td>Woodbine Gardens, Parkview Hill</td>\n    </tr>\n    <tr>\n      <th>4</th>\n      <td>M4W</td>\n      <td>Downtown Toronto</td>\n      <td>Rosedale</td>\n    </tr>\n    <tr>\n      <th>5</th>\n      <td>M4E</td>\n      <td>East Toronto</td>\n      <td>The Beaches</td>\n    </tr>\n    <tr>\n      <th>6</th>\n      <td>M5K</td>\n      <td>Downtown Toronto</td>\n      <td>Design Exchange, Toronto Dominion Centre</td>\n    </tr>\n    <tr>\n      <th>7</th>\n      <td>M1S</td>\n      <td>Scarborough</td>\n      <td>Agincourt</td>\n    </tr>\n    <tr>\n      <th>8</th>\n      <td>M5C</td>\n      <td>Downtown Toronto</td>\n      <td>St. James Town</td>\n    </tr>\n    <tr>\n      <th>9</th>\n      <td>M6S</td>\n      <td>West Toronto</td>\n      <td>Runnymede, Swansea</td>\n    </tr>\n    <tr>\n      <th>10</th>\n      <td>M3J</td>\n      <td>North York</td>\n      <td>Northwood Park, York University</td>\n    </tr>\n    <tr>\n      <th>11</th>\n      <td>M5L</td>\n      <td>Downtown Toronto</td>\n      <td>Commerce Court</td>\n    </tr>\n  </tbody>\n</table>\n</div>", 
                        "text/plain": "   Postcode           Borough  \\\n0       M2M        North York   \n1       M1C       Scarborough   \n2       M9V         Etobicoke   \n3       M4B         East York   \n4       M4W  Downtown Toronto   \n5       M4E      East Toronto   \n6       M5K  Downtown Toronto   \n7       M1S       Scarborough   \n8       M5C  Downtown Toronto   \n9       M6S      West Toronto   \n10      M3J        North York   \n11      M5L  Downtown Toronto   \n\n                                        Neighbourhood  \n0                             Newtonbrook, Willowdale  \n1              Highland Creek, Rouge Hill, Port Union  \n2   Beaumond Heights, Jamestown, Mount Olive, Silv...  \n3                     Woodbine Gardens, Parkview Hill  \n4                                            Rosedale  \n5                                         The Beaches  \n6            Design Exchange, Toronto Dominion Centre  \n7                                           Agincourt  \n8                                      St. James Town  \n9                                  Runnymede, Swansea  \n10                    Northwood Park, York University  \n11                                     Commerce Court  "
                    }, 
                    "execution_count": 44, 
                    "metadata": {}
                }
            ], 
            "execution_count": 44
        }, 
        {
            "source": "# .shape method to print the number of rows of your dataframe\ndf_toronto.shape", 
            "cell_type": "code", 
            "metadata": {}, 
            "outputs": [
                {
                    "output_type": "execute_result", 
                    "data": {
                        "text/plain": "(77, 3)"
                    }, 
                    "execution_count": 40, 
                    "metadata": {}
                }
            ], 
            "execution_count": 40
        }, 
        {
            "source": "", 
            "cell_type": "code", 
            "metadata": {}, 
            "outputs": [], 
            "execution_count": null
        }
    ], 
    "metadata": {
        "kernelspec": {
            "display_name": "Python 3.6", 
            "name": "python3", 
            "language": "python"
        }, 
        "language_info": {
            "mimetype": "text/x-python", 
            "nbconvert_exporter": "python", 
            "version": "3.6.8", 
            "name": "python", 
            "pygments_lexer": "ipython3", 
            "file_extension": ".py", 
            "codemirror_mode": {
                "version": 3, 
                "name": "ipython"
            }
        }
    }, 
    "nbformat": 4
}